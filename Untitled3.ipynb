{
 "cells": [
  {
   "cell_type": "code",
   "execution_count": null,
   "id": "d0791b9c-1242-4171-9292-ae8e1a90692f",
   "metadata": {},
   "outputs": [],
   "source": []
  }
 ],
 "metadata": {
  "kernelspec": {
   "display_name": "",
   "name": ""
  },
  "language_info": {
   "name": ""
  }
 },
 "nbformat": 4,
 "nbformat_minor": 5
}
